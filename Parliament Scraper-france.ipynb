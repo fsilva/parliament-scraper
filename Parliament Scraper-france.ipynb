{
 "cells": [
  {
   "cell_type": "markdown",
   "metadata": {},
   "source": [
    "\n",
    "\n",
    "5) France\n",
    "===========\n",
    "\n",
    "Sessions are present on the format: http://www.assemblee-nationale.fr/[legislature]/cri/[yearX]-[yearX+1]/[yearX]0001.asp"
   ]
  },
  {
   "cell_type": "code",
   "execution_count": 153,
   "metadata": {
    "collapsed": false,
    "scrolled": false
   },
   "outputs": [
    {
     "name": "stdout",
     "output_type": "stream",
     "text": [
      "downloaded 4045 sessions!\n"
     ]
    }
   ],
   "source": [
    "import requests\n",
    "import bs4\n",
    "import os\n",
    "\n",
    "# 2001 - 2004 have some html problems\n",
    "count = 0\n",
    "\n",
    "# 11 is impossible\n",
    "for i in range(12,15):\n",
    "    mainPage = 'http://www.assemblee-nationale.fr'\n",
    "    url = mainPage + '/' + str(i) + '/debats/index.asp'\n",
    "    page = requests.get(url);\n",
    "    soup = bs4.BeautifulSoup(page.text,'html.parser')\n",
    "\n",
    "    links = []\n",
    "    for element in soup.findAll('a'):\n",
    "        try:\n",
    "            if '/cri/' in element['href'] and 'commissions_elargies' not in element['href'] and 'congres' not in element['href']:\n",
    "                links.append(mainPage + element['href'])\n",
    "        except:\n",
    "            pass\n",
    "        \n",
    "    for link in links:\n",
    "        #print('looking at links from',link)\n",
    "        page = requests.get(link);\n",
    "        soup = bs4.BeautifulSoup(page.text,'html.parser')\n",
    "        sublinks = []\n",
    "        #subList = soup.find(id='listecri')\n",
    "        # 2004 backwards does not work\n",
    "        subList = soup.findAll(class_='seance')\n",
    "        if len(subList) == 0:\n",
    "            subList = soup.findAll('table',{'width':'90%'})\n",
    "        for seance in subList:\n",
    "            for element in seance.findAll('a'):\n",
    "                try:\n",
    "                    if '.asp' in element['href'] and 'index' not in element['href']:\n",
    "                        if link.endswith('/'):\n",
    "                            finalLink = link + element['href'].split('#')[0]\n",
    "                        else:\n",
    "                            finalLink = link + \"/\" + element['href'].split('#')[0]\n",
    "                        if finalLink not in sublinks and '//' not in finalLink.split('http://')[1]:\n",
    "                            sublinks.append(finalLink)\n",
    "                except:\n",
    "                    pass\n",
    "        \n",
    "        for sublink in sublinks:\n",
    "            #print(sublink)\n",
    "            page = requests.get(sublink);\n",
    "            soup = bs4.BeautifulSoup(page.content.decode('utf-8','ignore'),'html.parser')\n",
    "            \n",
    "            html = soup.find(id='englobe')\n",
    "            text = ''\n",
    "            if html:\n",
    "                text = html.text\n",
    "            else:\n",
    "                tables = soup.findAll('table')\n",
    "                for table in tables:\n",
    "                    if table['width'] == '90%':\n",
    "                        text = table.text\n",
    "                        break\n",
    "            \n",
    "            # get folder\n",
    "            # get name\n",
    "            temp = sublink.split(\"cri/\")[1]\n",
    "            folder = 'france/'+temp.split(\"/\")[0]\n",
    "            file = temp.split(\"/\")[1].split(\".asp\")[0]\n",
    "            \n",
    "            if not os.path.exists(folder):\n",
    "                os.makedirs(folder)\n",
    "            \n",
    "            with open(folder+\"/\"+file+\".txt\",\"w\", encoding=\"utf-8\") as a:\n",
    "                a.write(text)\n",
    "                count += 1\n",
    "                if count % 30 == 1:\n",
    "                    print('%.2f'%(count*100/4000),\"%\")\n",
    "                 \n",
    "print(\"downloaded\",count,\"sessions!\")"
   ]
  },
  {
   "cell_type": "code",
   "execution_count": null,
   "metadata": {
    "collapsed": true
   },
   "outputs": [],
   "source": []
  }
 ],
 "metadata": {
  "kernelspec": {
   "display_name": "Python 3",
   "language": "python",
   "name": "python3"
  },
  "language_info": {
   "codemirror_mode": {
    "name": "ipython",
    "version": 3
   },
   "file_extension": ".py",
   "mimetype": "text/x-python",
   "name": "python",
   "nbconvert_exporter": "python",
   "pygments_lexer": "ipython3",
   "version": "3.5.2"
  }
 },
 "nbformat": 4,
 "nbformat_minor": 2
}
